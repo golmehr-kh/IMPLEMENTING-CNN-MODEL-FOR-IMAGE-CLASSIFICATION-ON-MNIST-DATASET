{
  "nbformat": 4,
  "nbformat_minor": 0,
  "metadata": {
    "colab": {
      "provenance": []
    },
    "kernelspec": {
      "name": "python3",
      "display_name": "Python 3"
    },
    "language_info": {
      "name": "python"
    }
  },
  "cells": [
    {
      "cell_type": "code",
      "execution_count": 1,
      "metadata": {
        "id": "qfXjUhLUkoAO"
      },
      "outputs": [],
      "source": [
        "import numpy as np \n",
        "import matplotlib.pyplot as plt "
      ]
    },
    {
      "cell_type": "code",
      "source": [
        "def f_prime_x1(x1,x2):\n",
        "  return (4* x1 + 3.4* np.pi * x2 * np.sin (0.2* np.pi *x1) - x2)\n",
        "\n",
        "def f_prime_x2(x1,x2):\n",
        "  return (4*x2 - 17*np.cos((0.2)*np.pi*x1) - x1)\n",
        "\n",
        "def f_zegond_x1(x1,x2):\n",
        "  return (4 + 0.68* x2 *(np.pi**2) * np.cos(0.2*np.pi*x1) )\n",
        "\n",
        "def f_zegond_x2(x1,x2):\n",
        "  return 4\n",
        "\n",
        "def newtton_method(n, x1, x2):\n",
        "  for i in range(n):\n",
        "    new_x1,new_x2 = 0,0\n",
        "    new_x1 = x1 - (f_prime_x1(x1,x2) / f_zegond_x1(x1,x2))\n",
        "    new_x2 = x2 - (f_prime_x2(x1,x2) / f_zegond_x2(x1,x2))\n",
        "    x1 = new_x1\n",
        "    x2 = new_x2\n",
        "  return x1,x2\n",
        "\n",
        "def func(x1,x2):\n",
        "  return 2*(x1)**2 + 2*(x2)**2 - 17* x2 *np.cos((0.2)*np.pi*x1) - x1 * x2\n",
        "\n",
        "\n",
        "def distance_detector(x1,x2,target):\n",
        "  if np.abs(func(x1,x2)-target) <2:\n",
        "    return 'close'\n",
        "  elif np.abs(func(x1,x2)-target) <200:\n",
        "    return 'far'\n",
        "  else:\n",
        "    return'farther'\n"
      ],
      "metadata": {
        "id": "pYGDeeocA4sl"
      },
      "execution_count": 2,
      "outputs": []
    },
    {
      "cell_type": "code",
      "source": [
        "x1_startPoint = -5 \n",
        "x1_endPoint = 5 \n",
        "x2_startPoint = 0\n",
        "x2_endPoint = 10\n",
        "stepSize = 0.5\n",
        "\n",
        "x1 = np.arange(x1_startPoint, x1_endPoint+stepSize, stepSize)\n",
        "x2 = np.arange(x2_startPoint, x2_endPoint+stepSize, stepSize)\n",
        "\n",
        "print(len(x1))\n",
        "print(len(x2))\n"
      ],
      "metadata": {
        "colab": {
          "base_uri": "https://localhost:8080/"
        },
        "id": "MvLKUgiaEWQQ",
        "outputId": "a0596f4a-2c45-4cf7-d240-38df2d4b6662"
      },
      "execution_count": 3,
      "outputs": [
        {
          "output_type": "stream",
          "name": "stdout",
          "text": [
            "21\n",
            "21\n"
          ]
        }
      ]
    },
    {
      "cell_type": "code",
      "source": [
        "dist_list =[]\n",
        "final_value = -36.4\n",
        "points =[]\n",
        "\n",
        "for i in range (len(x1)):\n",
        "  for k in range (len(x2)):\n",
        "    x_1,x_2 = newtton_method(100, i,k)\n",
        "    dist_list.append(distance_detector(x_1,x_2,final_value))\n",
        "    points.append([i,k])\n"
      ],
      "metadata": {
        "id": "ELVV7v88FZq1"
      },
      "execution_count": 4,
      "outputs": []
    },
    {
      "cell_type": "code",
      "source": [
        "x1_0 = 1\n",
        "x2_0 = 3\n",
        "X1, X2 = 0,0\n",
        "X1, X2 = newtton_method(100,x1_0,x2_0)\n",
        "print(\"minimum point was found at x1 = \", X1)\n",
        "print(\"minimum point was found at x2 = \", X2)\n",
        "print(\"minimun value of the function is \",func(X1,X2))\n"
      ],
      "metadata": {
        "colab": {
          "base_uri": "https://localhost:8080/"
        },
        "id": "s9eWiHaaT48m",
        "outputId": "a887cf20-16ef-4b0e-9add-f5759bb1a3f0"
      },
      "execution_count": 5,
      "outputs": [
        {
          "output_type": "stream",
          "name": "stdout",
          "text": [
            "minimum point was found at x1 =  0.13087466007249957\n",
            "minimum point was found at x2 =  4.268357652256218\n",
            "minimun value of the function is  -36.40349774185023\n"
          ]
        }
      ]
    },
    {
      "cell_type": "markdown",
      "source": [
        "##plot the distance graph"
      ],
      "metadata": {
        "id": "9Py91Yu2Jvc5"
      }
    },
    {
      "cell_type": "code",
      "source": [
        "for i in range(len(points)):\n",
        "  if dist_list[i] == 'close':\n",
        "    plt.scatter(points[i][0], points[i][1], color='y')\n",
        "  elif dist_list[i] == 'far':\n",
        "    plt.scatter(points[i][0], points[i][1], color='g')\n",
        "  else:\n",
        "    plt.scatter(points[i][0], points[i][1], color='b')\n"
      ],
      "metadata": {
        "colab": {
          "base_uri": "https://localhost:8080/",
          "height": 265
        },
        "id": "r11iRbQaJJt9",
        "outputId": "025d2e1c-79e9-483e-c691-31c1fe69d995"
      },
      "execution_count": 6,
      "outputs": [
        {
          "output_type": "display_data",
          "data": {
            "text/plain": [
              "<Figure size 432x288 with 1 Axes>"
            ],
            "image/png": "[encoded data removed]"
          },
          "metadata": {
            "needs_background": "light"
          }
        }
      ]
    },
    {
      "cell_type": "markdown",
      "source": [
        "#Part 2\n"
      ],
      "metadata": {
        "id": "lDNLebVAY49c"
      }
    },
    {
      "cell_type": "code",
      "source": [],
      "metadata": {
        "id": "YLjuPiJPFFAT"
      },
      "execution_count": 6,
      "outputs": []
    },
    {
      "cell_type": "code",
      "source": [
        "class Genetic(object):\n",
        "\n",
        "    def __init__(self, f, pop_size = 100, n_variables = 2):\n",
        "        self.f = f\n",
        "        self.minim = -15\n",
        "        self.maxim = 15\n",
        "        self.pop_size = pop_size\n",
        "        self.n_variables = n_variables\n",
        "        self.population = self.initializePopulation()\n",
        "        self.evaluatePopulation()\n",
        "\n",
        "    def initializePopulation(self):\n",
        "        return [np.random.randint(self.minim, self.maxim, size=(self.n_variables)) \n",
        "                           for i in range(self.pop_size)]\n",
        "\n",
        "    def evaluatePopulation(self):\n",
        "        return [self.f(i[0], i[1]) for i in self.population]\n",
        "\n",
        "    def fitness(self, results):\n",
        "        randA, randB = np.random.randint(0, self.pop_size),np.random.randint(0, self.pop_size)\n",
        "        if results[randA] < results[randB]: p1 = self.population[randA]\n",
        "        else: p1 = self.population[randB]\n",
        "\n",
        "        randA, randB = np.random.randint(0, self.pop_size), \\\n",
        "                        np.random.randint(0, self.pop_size)  \n",
        "        if results[randA] < results[randB]: p2 = self.population[randA]\n",
        "        else: p2 = self.population[randB] \n",
        "        return p1,p2\n",
        "\n",
        "    def child(self,p1,p2):\n",
        "      child = []\n",
        "      for i, j in zip(p1, p2):\n",
        "          for k, l in zip(i, j):\n",
        "              if k == l:\n",
        "                 child.append(k)\n",
        "              else:\n",
        "                 child.append(str(np.random.randint(min(k, l), max(k,l))))  \n",
        "      return child    \n",
        "\n",
        "\n",
        "    def generate_binary(self, p1,p2):\n",
        "      for i in p1:\n",
        "        p1 = format(abs(i), '010b')\n",
        "      for i in p2:\n",
        "        p2 = format(abs(i), '010b')\n",
        "      return p1,p2      \n",
        "\n",
        "\n",
        "    def nextGen(self):\n",
        "        results = self.evaluatePopulation()\n",
        "        children = [self.population[np.argmin(results)]]\n",
        "\n",
        "        while len(children) < self.pop_size:\n",
        "\n",
        "            p1,p2 = self.fitness(results)\n",
        "            signs = []\n",
        "            for i in zip(p1, p2):\n",
        "                if i[0] < 0 and i[1] < 0:\n",
        "                   signs.append(-1)\n",
        "                elif i[0] >= 0 and i[1] >= 0:\n",
        "                   signs.append(1)\n",
        "                else:\n",
        "                   signs.append(np.random.choice([-1,1]))\n",
        "            p1,p2 = self.generate_binary(p1,p2)\n",
        "\n",
        "            # Recombination\n",
        "            child = self.child(p1,p2)\n",
        "            child = ''.join(child)\n",
        "            g1 = child[0:len(child)//2] \n",
        "            g2 = child[len(child)//2:len(child)]\n",
        "            children.append(np.asarray([signs[0]*int(g1, 2), \n",
        "                                        signs[1]*int(g2, 2)]))\n",
        "        self.population = children\n",
        "\n",
        "    def run(self):\n",
        "        ix = 0\n",
        "        while ix < 1000:\n",
        "            ix += 1\n",
        "            self.nextGen()\n",
        "        return self.population[0]"
      ],
      "metadata": {
        "id": "QNPKE5RCKkyr"
      },
      "execution_count": 23,
      "outputs": []
    },
    {
      "cell_type": "code",
      "source": [
        "ff = lambda x1,x2 : 2*(x1)**2 + 2*(x2)**2 - 17* x2 *np.cos((0.2)*np.pi*x1) - x1 * x2\n",
        "\n",
        "n_variables = 2\n",
        "population_size = 100\n",
        "iteration = 1000\n",
        "\n",
        "gen = Genetic(ff, population_size, iteration)\n",
        "minim = gen.run()\n"
      ],
      "metadata": {
        "id": "j2IwDiWh_5Fy"
      },
      "execution_count": 24,
      "outputs": []
    },
    {
      "cell_type": "code",
      "source": [
        "print(\"minimun value of the function is \", func(minim[0],minim[1]))"
      ],
      "metadata": {
        "colab": {
          "base_uri": "https://localhost:8080/"
        },
        "id": "j4Jkc7CgAafm",
        "outputId": "cf7d3f33-5472-41a2-f33b-b03d55477447"
      },
      "execution_count": 25,
      "outputs": [
        {
          "output_type": "stream",
          "name": "stdout",
          "text": [
            "minimun value of the function is  -36.0\n"
          ]
        }
      ]
    },
    {
      "cell_type": "code",
      "source": [],
      "metadata": {
        "id": "VqPTNZfAA_Kf"
      },
      "execution_count": 9,
      "outputs": []
    }
  ]
}